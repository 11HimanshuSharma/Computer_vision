{
  "cells": [
    {
      "cell_type": "code",
      "execution_count": null,
      "metadata": {
        "id": "iWyBajFSRsyR",
        "outputId": "d1d25fd7-f38b-4ac1-eb18-f9b431c0bec3"
      },
      "outputs": [
        {
          "name": "stdout",
          "output_type": "stream",
          "text": [
            "hello world\n"
          ]
        }
      ],
      "source": [
        "# prompt: code for histogramnormazliztion of image in cv\n",
        "\n",
        "import cv2\n",
        "import numpy as np\n",
        "\n",
        "def histogram_normalization(image_path):\n",
        "    # Load the image\n",
        "    img = cv2.imread(image_path, cv2.IMREAD_GRAYSCALE)\n",
        "\n",
        "    if img is None:\n",
        "        print(\"Error: Could not load image.\")\n",
        "        return None\n",
        "\n",
        "    # Calculate the histogram\n",
        "    hist, bins = np.histogram(img.flatten(), 256, [0, 256])\n",
        "\n",
        "    # Calculate the cumulative distribution function (CDF)\n",
        "    cdf = hist.cumsum()\n",
        "\n",
        "    # Normalize the CDF\n",
        "    cdf_normalized = (cdf - cdf.min()) * 255 / (cdf.max() - cdf.min())\n",
        "    cdf_normalized = cdf_normalized.astype('uint8')\n",
        "\n",
        "    # Use the normalized CDF to map the pixel values\n",
        "    img_normalized = cdf_normalized[img]\n",
        "\n",
        "    return img_normalized\n"
      ]
    },
    {
      "cell_type": "code",
      "execution_count": null,
      "metadata": {
        "id": "AfBOVcthRsyU"
      },
      "outputs": [],
      "source": [
        "# prompt: create old and new histrogram\n",
        "\n",
        "import cv2\n",
        "import numpy as np\n",
        "import matplotlib.pyplot as plt\n",
        "\n",
        "def histogram_normalization(image_path):\n",
        "    # Load the image\n",
        "    img = cv2.imread(image_path, cv2.IMREAD_GRAYSCALE)\n",
        "\n",
        "    if img is None:\n",
        "        print(\"Error: Could not load image.\")\n",
        "        return None\n",
        "\n",
        "    # Calculate the histogram\n",
        "    hist, bins = np.histogram(img.flatten(), 256, [0, 256])\n",
        "\n",
        "    # Calculate the cumulative distribution function (CDF)\n",
        "    cdf = hist.cumsum()\n",
        "\n",
        "    # Normalize the CDF\n",
        "    cdf_normalized = (cdf - cdf.min()) * 255 / (cdf.max() - cdf.min())\n",
        "    cdf_normalized = cdf_normalized.astype('uint8')\n",
        "\n",
        "    # Use the normalized CDF to map the pixel values\n",
        "    img_normalized = cdf_normalized[img]\n",
        "\n",
        "    # Display the old and new histograms\n",
        "    plt.figure(figsize=(10, 5))\n",
        "\n",
        "    plt.subplot(1, 2, 1)\n",
        "    plt.hist(img.flatten(), 256, [0, 256], color='r')\n",
        "    plt.title('Original Image Histogram')\n",
        "    plt.xlabel('Pixel Value')\n",
        "    plt.ylabel('Frequency')\n",
        "\n",
        "    plt.subplot(1, 2, 2)\n",
        "    plt.hist(img_normalized.flatten(), 256, [0, 256], color='b')\n",
        "    plt.title('Normalized Image Histogram')\n",
        "    plt.xlabel('Pixel Value')\n",
        "    plt.ylabel('Frequency')\n",
        "\n",
        "    plt.tight_layout()\n",
        "    plt.show()\n",
        "\n",
        "\n",
        "    return img_normalized\n"
      ]
    }
  ],
  "metadata": {
    "kernelspec": {
      "display_name": "Python 3",
      "language": "python",
      "name": "python3"
    },
    "language_info": {
      "codemirror_mode": {
        "name": "ipython",
        "version": 3
      },
      "file_extension": ".py",
      "mimetype": "text/x-python",
      "name": "python",
      "nbconvert_exporter": "python",
      "pygments_lexer": "ipython3",
      "version": "3.12.1"
    },
    "colab": {
      "provenance": []
    }
  },
  "nbformat": 4,
  "nbformat_minor": 0
}